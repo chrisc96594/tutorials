{
  "nbformat": 4,
  "nbformat_minor": 0,
  "metadata": {
    "colab": {
      "name": "Untitled0.ipynb",
      "provenance": [],
      "authorship_tag": "ABX9TyPbb7E1adGMoYEIqcTHdLwR",
      "include_colab_link": true
    },
    "kernelspec": {
      "name": "python3",
      "display_name": "Python 3"
    },
    "language_info": {
      "name": "python"
    }
  },
  "cells": [
    {
      "cell_type": "markdown",
      "metadata": {
        "id": "view-in-github",
        "colab_type": "text"
      },
      "source": [
        "<a href=\"https://colab.research.google.com/github/chrisc96594/Html/blob/main/tensorflow%20tutorial.ipynb\" target=\"_parent\"><img src=\"https://colab.research.google.com/assets/colab-badge.svg\" alt=\"Open In Colab\"/></a>"
      ]
    },
    {
      "cell_type": "code",
      "source": [
        "import tensorflow as tf "
      ],
      "metadata": {
        "id": "IE8RUuQ4GkUC"
      },
      "execution_count": 12,
      "outputs": []
    },
    {
      "cell_type": "code",
      "source": [
        "# Initialization of tensors\n",
        "x=tf.constant(4,shape=(1,1),dtype=tf.float32)\n",
        "x=tf.constant([[1,2,3],[4,5,6]])\n",
        "x=tf.ones((3,3))\n",
        "x=tf.zeros((2,3))\n",
        "x=tf.eye(3) #I for the identity matrix(eye)\n",
        "x=tf.random.normal((3,3),mean=0,stddev=1)#Standard normal distribution\n",
        "x=tf.random.uniform((1,3),minval=0,maxval=1)#Uniform distribution\n",
        "x=tf.range(start=1,limit=10,delta=2)#delta is a step among the numbers"
      ],
      "metadata": {
        "id": "qSayCHtHUbXl"
      },
      "execution_count": 28,
      "outputs": []
    },
    {
      "cell_type": "code",
      "source": [
        "print(x)"
      ],
      "metadata": {
        "colab": {
          "base_uri": "https://localhost:8080/"
        },
        "id": "KQlX0mXzUlhQ",
        "outputId": "81cb644e-306b-4730-f001-ec5243aa53e5"
      },
      "execution_count": 29,
      "outputs": [
        {
          "output_type": "stream",
          "name": "stdout",
          "text": [
            "tf.Tensor([1 3 5 7 9], shape=(5,), dtype=int32)\n"
          ]
        }
      ]
    }
  ]
}